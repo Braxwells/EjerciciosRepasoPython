{
 "cells": [
  {
   "cell_type": "code",
   "execution_count": 182,
   "id": "initial_id",
   "metadata": {
    "collapsed": true,
    "ExecuteTime": {
     "end_time": "2023-09-21T10:51:10.018991Z",
     "start_time": "2023-09-21T10:51:08.118528Z"
    }
   },
   "outputs": [
    {
     "name": "stdout",
     "output_type": "stream",
     "text": [
      " La suma de los numeros es 4\n"
     ]
    }
   ],
   "source": [
    "#1 Suma de enteros\n",
    "x = int(input(\"Ingrese un numero entero: \"))\n",
    "y = int(input(\"Ingrese otro numero entero: \"))\n",
    "z = x+y\n",
    "print(f' La suma de los numeros es {z}')"
   ]
  },
  {
   "cell_type": "code",
   "execution_count": 142,
   "outputs": [
    {
     "name": "stdout",
     "output_type": "stream",
     "text": [
      "Su BMI es:  25.794274929223022\n"
     ]
    }
   ],
   "source": [
    "#2 Calculadora de BMI:\n",
    "peso = float(input(\"Ingrese su peso en kg: \"))\n",
    "altura = float(input(\"Ingrese su altura en m: \"))\n",
    "BMI = peso/(altura**2)\n",
    "print(f' Su BMI es de {BMI}')"
   ],
   "metadata": {
    "collapsed": false,
    "ExecuteTime": {
     "end_time": "2023-09-20T20:40:31.694535Z",
     "start_time": "2023-09-20T20:40:21.779116Z"
    }
   },
   "id": "f47b6c0dc9675c84"
  },
  {
   "cell_type": "code",
   "execution_count": 145,
   "outputs": [
    {
     "name": "stdout",
     "output_type": "stream",
     "text": [
      "Esta cadena tiene un total de 9 caracteres\n",
      "El primer carácter de la cadena es: 1\n",
      "El ultimo carácter de la cadena es: a\n"
     ]
    }
   ],
   "source": [
    "#3 Manipulación de cadenas\n",
    "\n",
    "cadena = input(\"Ingrese una cadena de caracteres: \")\n",
    "print(f'Esta cadena tiene un total de {len(cadena)} caracteres')\n",
    "print(f'El primer carácter de la cadena es: {cadena[0]}')\n",
    "print(f'El ultimo carácter de la cadena es: {cadena[-1]}')"
   ],
   "metadata": {
    "collapsed": false,
    "ExecuteTime": {
     "end_time": "2023-09-20T20:43:13.628273Z",
     "start_time": "2023-09-20T20:43:08.693896Z"
    }
   },
   "id": "d1a269c4871bef1b"
  },
  {
   "cell_type": "code",
   "execution_count": 144,
   "outputs": [
    {
     "name": "stdout",
     "output_type": "stream",
     "text": [
      "La temperatura en grados Fahrenheit es: 87.8\n"
     ]
    }
   ],
   "source": [
    "#4 Conversión de temperaturas\n",
    "celsius = float(input(\"Introduce una temperatura en grados Celsius: \"))\n",
    "fahrenheit = (celsius*9/5)+32\n",
    "print(f'La temperatura en grados Fahrenheit es: {fahrenheit}')"
   ],
   "metadata": {
    "collapsed": false,
    "ExecuteTime": {
     "end_time": "2023-09-20T20:43:05.522681Z",
     "start_time": "2023-09-20T20:43:01.304729Z"
    }
   },
   "id": "b747f08938a77276"
  },
  {
   "cell_type": "code",
   "execution_count": 143,
   "outputs": [
    {
     "name": "stdout",
     "output_type": "stream",
     "text": [
      "[2, 4, 6, 8]\n"
     ]
    }
   ],
   "source": [
    "#5 lista de números pares\n",
    "lista = []\n",
    "for i in range(1,10):\n",
    "    if i%2 == 0:\n",
    "        lista.append(i)\n",
    "        \n",
    "print(lista)"
   ],
   "metadata": {
    "collapsed": false,
    "ExecuteTime": {
     "end_time": "2023-09-20T20:42:58.095983Z",
     "start_time": "2023-09-20T20:42:58.090109Z"
    }
   },
   "id": "cabf5bba75956c12"
  },
  {
   "cell_type": "code",
   "execution_count": 146,
   "outputs": [
    {
     "name": "stdout",
     "output_type": "stream",
     "text": [
      "verde\n"
     ]
    }
   ],
   "source": [
    "#6 Tupla de colores\n",
    "colores = ('rojo', 'verde', 'azul')\n",
    "print(colores[1])\n"
   ],
   "metadata": {
    "collapsed": false,
    "ExecuteTime": {
     "end_time": "2023-09-20T20:43:22.206878Z",
     "start_time": "2023-09-20T20:43:22.202158Z"
    }
   },
   "id": "1a055598701c56c"
  },
  {
   "cell_type": "code",
   "execution_count": 147,
   "outputs": [
    {
     "name": "stdout",
     "output_type": "stream",
     "text": [
      "La union de los conjuntos A y B es: {1, 2, 3, 4, 5, 6, 7}\n",
      "La interseccion de los conjuntos A y B es: {3, 4, 5}\n",
      "La diferencia de los conjuntos A y B es: {1, 2, 6, 7}\n"
     ]
    }
   ],
   "source": [
    "#7 Operaciones con conjuntos\n",
    "A = {1,2,3,4,5}\n",
    "B = {3,4,5,6,7}\n",
    "print(f'La union de los conjuntos A y B es: {A.union(B)}')\n",
    "print(f'La interseccion de los conjuntos A y B es: {A.intersection(B)}')\n",
    "print(f'La diferencia de los conjuntos A y B es: {A.symmetric_difference(B)}')\n",
    "    \n"
   ],
   "metadata": {
    "collapsed": false,
    "ExecuteTime": {
     "end_time": "2023-09-20T20:43:25.904945Z",
     "start_time": "2023-09-20T20:43:25.898013Z"
    }
   },
   "id": "bc59a0dba9a379e9"
  },
  {
   "cell_type": "code",
   "execution_count": 151,
   "outputs": [
    {
     "name": "stdout",
     "output_type": "stream",
     "text": [
      "El numero de Juancar es: 123456789\n"
     ]
    }
   ],
   "source": [
    "#8 Diccionario de contactos\n",
    "contactos = {}\n",
    "\n",
    "contactos['Juancar'] = 123456789\n",
    "contactos['Nico'] = 987654321\n",
    "contactos['Bruno'] = 456789123\n",
    "\n",
    "nombre = input(\"Ingrese el nombre del contacto que desea buscar: \")\n",
    "if nombre not in contactos:\n",
    "    print(\"El contacto no existe\")\n",
    "else:\n",
    "    print(f'El numero de {nombre} es: {contactos[nombre]}')"
   ],
   "metadata": {
    "collapsed": false,
    "ExecuteTime": {
     "end_time": "2023-09-20T20:44:07.062778Z",
     "start_time": "2023-09-20T20:44:04.181887Z"
    }
   },
   "id": "fbe6a1b2055a7044"
  },
  {
   "cell_type": "code",
   "execution_count": 152,
   "outputs": [
    {
     "name": "stdout",
     "output_type": "stream",
     "text": [
      "El resultado de la operacion AND es: False\n",
      "El resultado de la operacion OR es: True\n",
      "El resultado de la operacion NOT es: False\n"
     ]
    }
   ],
   "source": [
    "#9 Comprobación de valores booleanos\n",
    "x = input(\"Ingrese un valor booleano ('True' o 'False'): \")\n",
    "y = input(\"Ingrese otro valor booleano ('True' o 'False'): \")\n",
    "\n",
    "print(f'El resultado de la operacion AND es: {x and y}')\n",
    "print(f'El resultado de la operacion OR es: {x or y}')\n",
    "print(f'El resultado de la operacion NOT es: {not x}')\n"
   ],
   "metadata": {
    "collapsed": false,
    "ExecuteTime": {
     "end_time": "2023-09-20T20:44:15.851397Z",
     "start_time": "2023-09-20T20:44:10.724440Z"
    }
   },
   "id": "20deabe098c79a85"
  },
  {
   "cell_type": "code",
   "execution_count": 153,
   "outputs": [
    {
     "name": "stdout",
     "output_type": "stream",
     "text": [
      "El numero ingresado es: 5\n",
      "El numero ingresado como entero es: 5\n",
      "El numero ingresado como flotante es: 5.0\n",
      "El numero ingresado como cadena es: 5\n"
     ]
    }
   ],
   "source": [
    "#10 Conversión de tipos de datos\n",
    "x = input(\"Ingrese un numero: \")\n",
    "print(f'El numero ingresado es: {x}')\n",
    "print(f'El numero ingresado como entero es: {int(x)}')\n",
    "print(f'El numero ingresado como flotante es: {float(x)}')\n",
    "print(f'El numero ingresado como cadena es: {str(x)}')\n"
   ],
   "metadata": {
    "collapsed": false,
    "ExecuteTime": {
     "end_time": "2023-09-20T20:45:25.596032Z",
     "start_time": "2023-09-20T20:44:21.659218Z"
    }
   },
   "id": "b6273b6b99007a19"
  },
  {
   "cell_type": "code",
   "execution_count": 154,
   "outputs": [
    {
     "name": "stdout",
     "output_type": "stream",
     "text": [
      "La cadena 87fd8fsvvkdis83 tiene 10 letras\n"
     ]
    }
   ],
   "source": [
    "#11 Conteo de caracteres\n",
    "cadena = input(\"Ingrese una cadena de caracteres: \")\n",
    "letras = 0\n",
    "for i in cadena:\n",
    "    if i.isalpha():\n",
    "        letras += 1\n",
    "        \n",
    "print(f'La cadena {cadena} tiene {letras} letras')\n"
   ],
   "metadata": {
    "collapsed": false,
    "ExecuteTime": {
     "end_time": "2023-09-20T20:45:32.650172Z",
     "start_time": "2023-09-20T20:45:29.456065Z"
    }
   },
   "id": "38d08e1b3f5728eb"
  },
  {
   "cell_type": "code",
   "execution_count": 155,
   "outputs": [
    {
     "name": "stdout",
     "output_type": "stream",
     "text": [
      "La suma de los elementos de la lista es: 55\n"
     ]
    }
   ],
   "source": [
    "#12 Suma elementos de una lista\n",
    "lista = [1,2,3,4,5,6,7,8,9,10]\n",
    "suma = 0\n",
    "for i in lista:\n",
    "    suma += i\n",
    "\n",
    "print(f'La suma de los elementos de la lista es: {suma}')"
   ],
   "metadata": {
    "collapsed": false,
    "ExecuteTime": {
     "end_time": "2023-09-20T20:45:36.413015Z",
     "start_time": "2023-09-20T20:45:36.409839Z"
    }
   },
   "id": "13b1fd87acb3b3ad"
  },
  {
   "cell_type": "code",
   "execution_count": 156,
   "outputs": [
    {
     "name": "stdout",
     "output_type": "stream",
     "text": [
      "La cadena resultante es: kjkjedjksikdsakask\n"
     ]
    }
   ],
   "source": [
    "#13 Remplazo de caracteres\n",
    "cadena = input(\"Ingrese una cadena de caracteres: \")\n",
    "caracter = input(\"Ingrese un carácter que quiere remplazar: \")\n",
    "reemplazo = input(\"Ingrese el carácter por el que desea reemplazarlo: \")\n",
    "cadena = cadena.replace(caracter, reemplazo)\n",
    "print(f'La cadena resultante es: {cadena}')"
   ],
   "metadata": {
    "collapsed": false,
    "ExecuteTime": {
     "end_time": "2023-09-20T20:45:49.446865Z",
     "start_time": "2023-09-20T20:45:38.540573Z"
    }
   },
   "id": "26bec36805680b6f"
  },
  {
   "cell_type": "code",
   "execution_count": 157,
   "outputs": [
    {
     "name": "stdout",
     "output_type": "stream",
     "text": [
      "Usted ha vivido 7152 dias\n"
     ]
    }
   ],
   "source": [
    "#14 Días vividos\n",
    "from datetime import date\n",
    "fecha = input(\"Introduce su fecha de nacimiento (dd/mm/aaaa): \")\n",
    "dia = int(fecha[0:2])\n",
    "mes = int(fecha[3:5])\n",
    "año = int(fecha[6:10])\n",
    "fecha_nacimiento = date(año, mes, dia)\n",
    "fecha_actual = date.today()\n",
    "dias_vividos = fecha_actual - fecha_nacimiento\n",
    "print(f'Usted ha vivido {dias_vividos.days} dias')\n"
   ],
   "metadata": {
    "collapsed": false,
    "ExecuteTime": {
     "end_time": "2023-09-20T20:45:58.257065Z",
     "start_time": "2023-09-20T20:45:52.475093Z"
    }
   },
   "id": "44653268450dce40"
  },
  {
   "cell_type": "code",
   "execution_count": 158,
   "outputs": [
    {
     "data": {
      "text/plain": "[1, 3, 4, 5, 7, 8]"
     },
     "execution_count": 158,
     "metadata": {},
     "output_type": "execute_result"
    }
   ],
   "source": [
    "#15 Ordenar una lista\n",
    "lista = [1,8,3,5,7,4]\n",
    "listaord = []\n",
    "def ordenar():\n",
    "    aux = 0\n",
    "    for i in range(len(lista)):\n",
    "        for j in range(len(lista)):\n",
    "            if lista[i] < lista[j]:\n",
    "                aux = lista[i]\n",
    "                lista[i] = lista[j]\n",
    "                lista[j] = aux\n",
    "    return lista\n",
    "\n",
    "ordenar()"
   ],
   "metadata": {
    "collapsed": false,
    "ExecuteTime": {
     "end_time": "2023-09-20T20:48:26.303357Z",
     "start_time": "2023-09-20T20:48:26.296005Z"
    }
   },
   "id": "c198c30e45d6561c"
  },
  {
   "cell_type": "code",
   "execution_count": 159,
   "outputs": [
    {
     "data": {
      "text/plain": "6.0"
     },
     "execution_count": 159,
     "metadata": {},
     "output_type": "execute_result"
    }
   ],
   "source": [
    "#16 Calificación promedio\n",
    "notas = [3,8,7]\n",
    "\n",
    "def media():\n",
    "    total = 0\n",
    "    for i in notas:\n",
    "        total += i\n",
    "    total = total/len(notas)\n",
    "    return total\n",
    "\n",
    "media()"
   ],
   "metadata": {
    "collapsed": false,
    "ExecuteTime": {
     "end_time": "2023-09-20T20:48:28.490610Z",
     "start_time": "2023-09-20T20:48:28.482807Z"
    }
   },
   "id": "6811dac87fceb7cd"
  },
  {
   "cell_type": "code",
   "execution_count": 160,
   "outputs": [
    {
     "name": "stdout",
     "output_type": "stream",
     "text": [
      "7152 days, 0:00:00\n"
     ]
    }
   ],
   "source": [
    "#17 Diferencia de fechas\n",
    "fecha1 = input(\"Ingrese una fecha (dd/mm/aaaa): \")\n",
    "fecha2 = input(\"Ingrese otra fecha (dd/mm/aaaa): \")\n",
    "dia1 = int(fecha1[0:2])\n",
    "mes1 = int(fecha1[3:5])\n",
    "año1 = int(fecha1[6:10])\n",
    "dia2 = int(fecha2[0:2])\n",
    "mes2 = int(fecha2[3:5])\n",
    "año2 = int(fecha2[6:10])\n",
    "fecha1 = date(año1, mes1, dia1)\n",
    "fecha2 = date(año2, mes2, dia2)\n",
    "diferencia = fecha2 - fecha1\n",
    "print(diferencia)"
   ],
   "metadata": {
    "collapsed": false,
    "ExecuteTime": {
     "end_time": "2023-09-20T20:49:09.635399Z",
     "start_time": "2023-09-20T20:48:42.533401Z"
    }
   },
   "id": "cf54c20c3d8366e8"
  },
  {
   "cell_type": "code",
   "execution_count": 161,
   "outputs": [
    {
     "name": "stdout",
     "output_type": "stream",
     "text": [
      "Mi lista con los 10 y 3 añadidos [5, 2, 7, 1, 8, 10, 3]\n",
      "Mi lista con el 4 en la segunda posición [5, 4, 2, 7, 1, 8, 10, 3]\n",
      "Mi lista con el 7 eliminado [5, 4, 2, 1, 8, 10, 3]\n",
      "Ahora la lista es [4, 2, 1, 8, 10, 3] y el elemento eliminado es 5\n",
      "El indice del 8 es el 3\n",
      "El numero 4 aparece 1 veces\n",
      "La lista ordenada de forma ascendente es: [1, 2, 3, 4, 8, 10]\n",
      "La lista ordenada de forma descendente es: [10, 8, 4, 3, 2, 1]\n",
      "Si vaciamos la lista queda como []\n"
     ]
    }
   ],
   "source": [
    "#18 Listas en python\n",
    "mi_lista = [5, 2, 7, 1, 8]\n",
    "\n",
    "#añadimos números 10 y 3 \n",
    "mi_lista.append(10)\n",
    "mi_lista.append(3)\n",
    "print(f'Mi lista con los 10 y 3 añadidos {mi_lista}')\n",
    "\n",
    "#Añadimos el 4 en la posición 2\n",
    "mi_lista.insert(1,4)\n",
    "print(f'Mi lista con el 4 en la segunda posición {mi_lista}')\n",
    "\n",
    "#Eliminamos el 7\n",
    "mi_lista.remove(7)\n",
    "print(f'Mi lista con el 7 eliminado {mi_lista}')\n",
    "      \n",
    "#Eliminamos el elemento de la posición 1 y lo guardamos\n",
    "elemento_eliminado = mi_lista.pop(0)\n",
    "print(f'Ahora la lista es {mi_lista} y el elemento eliminado es {elemento_eliminado}')\n",
    "#Buscamos el número 8 y almacenamos su índice\n",
    "indice = mi_lista.index(8)\n",
    "print(f'El indice del 8 es el {indice}')\n",
    "\n",
    "#Contar las veces que aparece 4\n",
    "conteo = mi_lista.count(4)\n",
    "print(f'El numero 4 aparece {conteo} veces')\n",
    "\n",
    "#Ordernar la lista ascendente\n",
    "mi_lista = sorted(mi_lista)\n",
    "print(f'La lista ordenada de forma ascendente es: {mi_lista}')\n",
    "\n",
    "#Invertimos el orden de la lista\n",
    "mi_lista = list(reversed(mi_lista))\n",
    "print(f'La lista ordenada de forma descendente es: {mi_lista}')\n",
    "\n",
    "#Vaciamos la lista\n",
    "mi_lista.clear()\n",
    "print(f'Si vaciamos la lista queda como {mi_lista}')"
   ],
   "metadata": {
    "collapsed": false,
    "ExecuteTime": {
     "end_time": "2023-09-20T20:49:15.299797Z",
     "start_time": "2023-09-20T20:49:15.293277Z"
    }
   },
   "id": "43315ca81bc2db60"
  },
  {
   "cell_type": "code",
   "execution_count": 162,
   "outputs": [
    {
     "name": "stdout",
     "output_type": "stream",
     "text": [
      "El promedio de goles es de 4.5\n",
      "La mejor goleadora metió 12 goles\n",
      "La jugadora Lucía tiene 7 como número de camiseta y ha metido 8 goles\n"
     ]
    }
   ],
   "source": [
    "#19 Tuplas en python (Selección femenina de fútbol)\n",
    "jug1 = ('María', 10, 12)\n",
    "jug2 = ('Carmen', 3, 1)\n",
    "jug3 = ('Pilar', 1, 0)\n",
    "jug4 = ('Sara', 6, 4)\n",
    "jug5 = ('Lucía', 7, 8)\n",
    "jug6 = ('Irene', 4, 2)\n",
    "   \n",
    "registro_rendimiento = (jug1, jug2, jug3, jug4, jug5, jug6)\n",
    "\n",
    "#Promedio goles\n",
    "def promedio_goles():\n",
    "    goles = 0\n",
    "    for i in registro_rendimiento:\n",
    "        goles += i[2]\n",
    "          \n",
    "    promedio = goles/len(registro_rendimiento)\n",
    "    print(f'El promedio de goles es de {promedio}')\n",
    "\n",
    "#Mejor goleadora\n",
    "def mejor_goleadora():\n",
    "    goles = 0\n",
    "    for i in registro_rendimiento:\n",
    "        if i[2] > goles:\n",
    "            goles = i[2]\n",
    "            mejor = i[0]\n",
    "    print(f'La mejor goleadora metió {goles} goles')\n",
    "\n",
    "#Buscar jugadora\n",
    "def buscar_jugadora():\n",
    "    num = int(input(\"Ingrese el número de la jugadora que desea buscar: \"))\n",
    "    jugadora_encontrada = False \n",
    "\n",
    "    for i in registro_rendimiento:\n",
    "        if i[1] == num:\n",
    "            print(f'La jugadora {i[0]} tiene {num} como número de camiseta y ha metido {i[2]} goles')\n",
    "            jugadora_encontrada = True\n",
    "            break\n",
    "\n",
    "    if not jugadora_encontrada:\n",
    "        print(\"La jugadora no existe\")\n",
    "\n",
    "\n",
    "\n",
    "promedio_goles()\n",
    "mejor_goleadora()\n",
    "buscar_jugadora()"
   ],
   "metadata": {
    "collapsed": false,
    "ExecuteTime": {
     "end_time": "2023-09-20T20:49:26.726009Z",
     "start_time": "2023-09-20T20:49:17.483542Z"
    }
   },
   "id": "efe85a0f5a3fdcb7"
  },
  {
   "cell_type": "code",
   "execution_count": 139,
   "outputs": [
    {
     "name": "stdout",
     "output_type": "stream",
     "text": [
      "Los estudiantes comunes son: {777, 534}\n",
      "Los estudiantes unidos son: {517, 296, 777, 492, 178, 534, 598, 827}\n",
      "Los estudiantes no comunes son: {178, 517, 598, 296, 827, 492}\n"
     ]
    }
   ],
   "source": [
    "#20 Conjuntos en python (Estudiantes universitarios)\n",
    "grupo_a = {178, 534, 296, 517, 777}\n",
    "grupo_b = {492, 598, 534, 777, 827}\n",
    "\n",
    "def estudiantes_comunes():\n",
    "    comunes = grupo_a.intersection(grupo_b)\n",
    "    print(f'Los estudiantes comunes son: {comunes}')\n",
    "    \n",
    "def estudiantes_unidos():\n",
    "    unidos = grupo_a.union(grupo_b)\n",
    "    print(f'Los estudiantes unidos son: {unidos}')\n",
    "    \n",
    "def estudiantes_no_comunes():\n",
    "    no_comunes = grupo_a.symmetric_difference(grupo_b)\n",
    "    print(f'Los estudiantes no comunes son: {no_comunes}')\n",
    "    \n",
    "estudiantes_comunes()\n",
    "estudiantes_unidos()\n",
    "estudiantes_no_comunes()"
   ],
   "metadata": {
    "collapsed": false,
    "ExecuteTime": {
     "end_time": "2023-09-20T20:34:05.458025Z",
     "start_time": "2023-09-20T20:34:05.453760Z"
    }
   },
   "id": "2366d3b82768121"
  },
  {
   "cell_type": "code",
   "execution_count": 165,
   "outputs": [
    {
     "name": "stdout",
     "output_type": "stream",
     "text": [
      "Lechonk se ha registrado en la pokedex\n",
      "El pokemon no está registrado\n",
      "Lechonk es de tipo Normal, tiene un ataque de 46, una defensa de 38 y una vida de 69\n",
      "Fuecoco\n",
      "Quaxly\n",
      "Sprigatito\n",
      "Lechonk\n"
     ]
    }
   ],
   "source": [
    "#21 Diccionarios en python (Pokedex)\n",
    "pokedex = {\n",
    "    'Fuecoco' : {\n",
    "        'tipo' : 'Fuego',\n",
    "        'ataque' : 45,\n",
    "        'defensa' : 59,\n",
    "        'vida' : 67\n",
    "    },\n",
    "    'Quaxly' : {\n",
    "        'tipo' : 'Agua',\n",
    "        'ataque' : 65,\n",
    "        'defensa' : 45,\n",
    "        'vida' : 55\n",
    "    },\n",
    "    'Sprigatito' : {\n",
    "        'tipo' : 'Planta',\n",
    "        'ataque' : 61,\n",
    "        'defensa' : 54,\n",
    "        'vida' : 40\n",
    "    },\n",
    "}\n",
    "def mostrar_informacion_pokemon():\n",
    "    pokemon = input(\"¿Qué pokemon quiere buscar? \")\n",
    "    if pokemon not in pokedex:\n",
    "        print(\"El pokemon no está registrado en esta pokedex\")\n",
    "    else:\n",
    "        print(f'{pokemon} es de tipo {pokedex[pokemon][\"tipo\"]}, tiene un ataque de {pokedex[pokemon][\"ataque\"]}, una defensa de {pokedex[pokemon][\"defensa\"]} y una vida de {pokedex[pokemon][\"vida\"]}')\n",
    "\n",
    "def agregar_pokemon():\n",
    "    pokemon = input(\"¿Como se llama el pokemon que quieres intrudocir? \")\n",
    "    if pokemon in pokedex:\n",
    "        print(\"El pokemon ya está registrado\")\n",
    "    else:\n",
    "        tipo = input(\"¿De qué tipo es?\")\n",
    "        ataque = int(input(\"¿Cuánto ataque tiene? \"))\n",
    "        defensa = int(input(\"¿Cuánta defensa tiene? \"))\n",
    "        vida = int(input(\"¿Cuanta vida tiene? \"))\n",
    "        pokedex[pokemon] = {\n",
    "            'tipo' : tipo,\n",
    "            'ataque' : ataque,\n",
    "            'defensa' : defensa,\n",
    "            'vida' : vida\n",
    "        }\n",
    "        print(f'{pokemon} se ha registrado en la pokedex')\n",
    "        \n",
    "def eliminar_pokemon():\n",
    "    pokemon = input(\"¿Qué pokemon quieres borrar? \")\n",
    "    if pokemon not in pokedex:\n",
    "        print(\"El pokemon no está registrado\")\n",
    "    else:\n",
    "        del pokedex[pokemon]\n",
    "        print(f'{pokemon} se ha eliminado correctamente')\n",
    "        \n",
    "def mostrar_catalogo():\n",
    "    for i in pokedex:\n",
    "        print(i)\n",
    "    \n",
    "agregar_pokemon()\n",
    "eliminar_pokemon()\n",
    "mostrar_informacion_pokemon()\n",
    "mostrar_catalogo()"
   ],
   "metadata": {
    "collapsed": false,
    "ExecuteTime": {
     "end_time": "2023-09-20T21:07:18.919898Z",
     "start_time": "2023-09-20T21:06:44.024540Z"
    }
   },
   "id": "975093df0d4a72d1"
  },
  {
   "cell_type": "code",
   "execution_count": 181,
   "outputs": [
    {
     "name": "stdout",
     "output_type": "stream",
     "text": [
      "El libro El señor de los anillos ha sido agregado\n",
      "El libro Elantris ha sido agregado\n",
      "El libro El código Da Vinci ha sido agregado\n",
      "Ahora mismo tenemos los siguientes libros disponibles en la biblioteca \"Barcala\":\n",
      "Título: El señor de los anillos\n",
      "Autor: J.R.R. Tolkien\n",
      "Año de publicación: 1954\n",
      "------------------------------\n",
      "Título: Elantris\n",
      "Autor: Brandon Sanderson\n",
      "Año de publicación: 2005\n",
      "------------------------------\n",
      "Título: El código Da Vinci\n",
      "Autor: Dan Brown\n",
      "Año de publicación: 2003\n",
      "------------------------------\n",
      "El libro El señor de los anillos ha sido prestado\n",
      "Ahora mismo tenemos los siguientes libros disponibles en la biblioteca \"Barcala\":\n",
      "Título: Elantris\n",
      "Autor: Brandon Sanderson\n",
      "Año de publicación: 2005\n",
      "------------------------------\n",
      "Título: El código Da Vinci\n",
      "Autor: Dan Brown\n",
      "Año de publicación: 2003\n",
      "------------------------------\n",
      "Gracias por devolver El señor de los anillos\n",
      "El libro Bajo la misma estrella no está\n"
     ]
    }
   ],
   "source": [
    "#22 Ejercicio de POO (Gestión de biblioteca)\n",
    "class Libro:\n",
    "    def __init__(self, titulo, autor, año):\n",
    "        self.titulo = titulo\n",
    "        self.autor = autor\n",
    "        self.año = año\n",
    "        \n",
    "    def mostrar_libro(self):\n",
    "        print(f'Título: {self.titulo}')\n",
    "        print(f'Autor: {self.autor}')\n",
    "        print(f'Año de publicación: {self.año}')\n",
    "        \n",
    "class Biblioteca:\n",
    "    def __init__(self, nombre):\n",
    "        self.nombre = nombre\n",
    "        self.libros = []\n",
    "        \n",
    "    def agregar_libro(self, libro):\n",
    "        self.libros.append(libro)\n",
    "        print(f'El libro {libro.titulo} ha sido agregado')\n",
    "\n",
    "    def prestar_libro(self, titulo):\n",
    "        for libro in self.libros:\n",
    "            if libro.titulo == titulo:\n",
    "                self.libros.remove(libro)\n",
    "                return print(f'El libro {titulo} ha sido prestado')\n",
    "        return print(f'El libro {titulo} no está')\n",
    "\n",
    "    def devolver_libro(self, libro):\n",
    "        self.libros.append(libro)\n",
    "        print(f'Gracias por devolver {libro.titulo}')\n",
    "\n",
    "    def mostrar_catalogo(self):\n",
    "        print(f'Ahora mismo tenemos los siguientes libros disponibles en la biblioteca \"{self.nombre}\":')\n",
    "        for libro in self.libros:\n",
    "            libro.mostrar_libro()\n",
    "            print('-' * 30)\n",
    "    \n",
    "mi_biblioteca = Biblioteca('Barcala')\n",
    "libro1 = Libro('El señor de los anillos', 'J.R.R. Tolkien', 1954)\n",
    "libro2 = Libro('Elantris', 'Brandon Sanderson', 2005)\n",
    "libro3 = Libro('El código Da Vinci', 'Dan Brown', 2003)\n",
    " \n",
    "mi_biblioteca.agregar_libro(libro1)\n",
    "mi_biblioteca.agregar_libro(libro2)\n",
    "mi_biblioteca.agregar_libro(libro3)\n",
    "mi_biblioteca.mostrar_catalogo()\n",
    "\n",
    "mi_biblioteca.prestar_libro('El señor de los anillos')\n",
    "mi_biblioteca.mostrar_catalogo()\n",
    "\n",
    "mi_biblioteca.devolver_libro(libro1)\n",
    "mi_biblioteca.prestar_libro('Bajo la misma estrella')"
   ],
   "metadata": {
    "collapsed": false,
    "ExecuteTime": {
     "end_time": "2023-09-21T10:35:56.489175Z",
     "start_time": "2023-09-21T10:35:56.486834Z"
    }
   },
   "id": "342e090d1dc3200f"
  },
  {
   "cell_type": "code",
   "execution_count": null,
   "outputs": [],
   "source": [],
   "metadata": {
    "collapsed": false
   },
   "id": "9cbbdebecd20080c"
  }
 ],
 "metadata": {
  "kernelspec": {
   "display_name": "Python 3",
   "language": "python",
   "name": "python3"
  },
  "language_info": {
   "codemirror_mode": {
    "name": "ipython",
    "version": 2
   },
   "file_extension": ".py",
   "mimetype": "text/x-python",
   "name": "python",
   "nbconvert_exporter": "python",
   "pygments_lexer": "ipython2",
   "version": "2.7.6"
  }
 },
 "nbformat": 4,
 "nbformat_minor": 5
}
